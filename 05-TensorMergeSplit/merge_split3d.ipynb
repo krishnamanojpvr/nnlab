{
 "cells": [
  {
   "cell_type": "markdown",
   "metadata": {},
   "source": [
    "## Krishna Manoj PVR\n",
    "## 22BD1A051F"
   ]
  },
  {
   "cell_type": "code",
   "execution_count": 43,
   "metadata": {},
   "outputs": [],
   "source": [
    "import tensorflow as tf"
   ]
  },
  {
   "cell_type": "code",
   "execution_count": 44,
   "metadata": {},
   "outputs": [],
   "source": [
    "t1 = tf.constant([\n",
    "    [[1, 2, 3, 4], [5, 6, 7, 8], [9, 10, 11, 12]],\n",
    "    [[13, 14, 15, 16], [17, 18, 19, 20], [21, 22, 23, 24]]\n",
    "])\n",
    "\n",
    "t2 = tf.constant([\n",
    "    [[25, 26, 27, 28], [29, 30, 31, 32], [33, 34, 35, 36]],\n",
    "    [[37, 38, 39, 40], [41, 42, 43, 44], [45, 46, 47, 48]]\n",
    "])\n"
   ]
  },
  {
   "cell_type": "code",
   "execution_count": 45,
   "metadata": {},
   "outputs": [
    {
     "data": {
      "text/plain": [
       "<tf.Tensor: shape=(4, 3, 4), dtype=int32, numpy=\n",
       "array([[[ 1,  2,  3,  4],\n",
       "        [ 5,  6,  7,  8],\n",
       "        [ 9, 10, 11, 12]],\n",
       "\n",
       "       [[13, 14, 15, 16],\n",
       "        [17, 18, 19, 20],\n",
       "        [21, 22, 23, 24]],\n",
       "\n",
       "       [[25, 26, 27, 28],\n",
       "        [29, 30, 31, 32],\n",
       "        [33, 34, 35, 36]],\n",
       "\n",
       "       [[37, 38, 39, 40],\n",
       "        [41, 42, 43, 44],\n",
       "        [45, 46, 47, 48]]])>"
      ]
     },
     "execution_count": 45,
     "metadata": {},
     "output_type": "execute_result"
    }
   ],
   "source": [
    "#merging\n",
    "c1 = tf.concat([t1,t2],axis=0)\n",
    "c1"
   ]
  },
  {
   "cell_type": "code",
   "execution_count": 46,
   "metadata": {},
   "outputs": [
    {
     "data": {
      "text/plain": [
       "<tf.Tensor: shape=(2, 6, 4), dtype=int32, numpy=\n",
       "array([[[ 1,  2,  3,  4],\n",
       "        [ 5,  6,  7,  8],\n",
       "        [ 9, 10, 11, 12],\n",
       "        [25, 26, 27, 28],\n",
       "        [29, 30, 31, 32],\n",
       "        [33, 34, 35, 36]],\n",
       "\n",
       "       [[13, 14, 15, 16],\n",
       "        [17, 18, 19, 20],\n",
       "        [21, 22, 23, 24],\n",
       "        [37, 38, 39, 40],\n",
       "        [41, 42, 43, 44],\n",
       "        [45, 46, 47, 48]]])>"
      ]
     },
     "execution_count": 46,
     "metadata": {},
     "output_type": "execute_result"
    }
   ],
   "source": [
    "c2 = tf.concat([t1,t2],axis=1)\n",
    "c2\n"
   ]
  },
  {
   "cell_type": "code",
   "execution_count": 47,
   "metadata": {},
   "outputs": [
    {
     "data": {
      "text/plain": [
       "<tf.Tensor: shape=(2, 3, 8), dtype=int32, numpy=\n",
       "array([[[ 1,  2,  3,  4, 25, 26, 27, 28],\n",
       "        [ 5,  6,  7,  8, 29, 30, 31, 32],\n",
       "        [ 9, 10, 11, 12, 33, 34, 35, 36]],\n",
       "\n",
       "       [[13, 14, 15, 16, 37, 38, 39, 40],\n",
       "        [17, 18, 19, 20, 41, 42, 43, 44],\n",
       "        [21, 22, 23, 24, 45, 46, 47, 48]]])>"
      ]
     },
     "execution_count": 47,
     "metadata": {},
     "output_type": "execute_result"
    }
   ],
   "source": [
    "c3 = tf.concat([t1,t2],axis=2)\n",
    "c3"
   ]
  },
  {
   "cell_type": "code",
   "execution_count": 48,
   "metadata": {},
   "outputs": [
    {
     "data": {
      "text/plain": [
       "(<tf.Tensor: shape=(2, 3, 4), dtype=int32, numpy=\n",
       " array([[[ 1,  2,  3,  4],\n",
       "         [ 5,  6,  7,  8],\n",
       "         [ 9, 10, 11, 12]],\n",
       " \n",
       "        [[13, 14, 15, 16],\n",
       "         [17, 18, 19, 20],\n",
       "         [21, 22, 23, 24]]])>,\n",
       " <tf.Tensor: shape=(2, 3, 4), dtype=int32, numpy=\n",
       " array([[[25, 26, 27, 28],\n",
       "         [29, 30, 31, 32],\n",
       "         [33, 34, 35, 36]],\n",
       " \n",
       "        [[37, 38, 39, 40],\n",
       "         [41, 42, 43, 44],\n",
       "         [45, 46, 47, 48]]])>)"
      ]
     },
     "execution_count": 48,
     "metadata": {},
     "output_type": "execute_result"
    }
   ],
   "source": [
    "#splitting\n",
    "a,b = tf.split(c1,num_or_size_splits=2,axis = 0)\n",
    "a,b"
   ]
  },
  {
   "cell_type": "markdown",
   "metadata": {},
   "source": [
    "a,b = tf.split(c1,num_or_size_splits=2,axis = 0)\n",
    "a,b"
   ]
  },
  {
   "cell_type": "code",
   "execution_count": 49,
   "metadata": {},
   "outputs": [
    {
     "data": {
      "text/plain": [
       "(<tf.Tensor: shape=(2, 3, 2), dtype=int32, numpy=\n",
       " array([[[ 1,  2],\n",
       "         [ 5,  6],\n",
       "         [ 9, 10]],\n",
       " \n",
       "        [[13, 14],\n",
       "         [17, 18],\n",
       "         [21, 22]]])>,\n",
       " <tf.Tensor: shape=(2, 3, 1), dtype=int32, numpy=\n",
       " array([[[ 3],\n",
       "         [ 7],\n",
       "         [11]],\n",
       " \n",
       "        [[15],\n",
       "         [19],\n",
       "         [23]]])>,\n",
       " <tf.Tensor: shape=(2, 3, 5), dtype=int32, numpy=\n",
       " array([[[ 4, 25, 26, 27, 28],\n",
       "         [ 8, 29, 30, 31, 32],\n",
       "         [12, 33, 34, 35, 36]],\n",
       " \n",
       "        [[16, 37, 38, 39, 40],\n",
       "         [20, 41, 42, 43, 44],\n",
       "         [24, 45, 46, 47, 48]]])>)"
      ]
     },
     "execution_count": 49,
     "metadata": {},
     "output_type": "execute_result"
    }
   ],
   "source": [
    "#non-uniform split\n",
    "n1,n2,n3 = tf.split(c3,num_or_size_splits=[2,1,5],axis=2)\n",
    "n1,n2,n3\n"
   ]
  }
 ],
 "metadata": {
  "kernelspec": {
   "display_name": "Python 3",
   "language": "python",
   "name": "python3"
  },
  "language_info": {
   "codemirror_mode": {
    "name": "ipython",
    "version": 3
   },
   "file_extension": ".py",
   "mimetype": "text/x-python",
   "name": "python",
   "nbconvert_exporter": "python",
   "pygments_lexer": "ipython3",
   "version": "3.12.6"
  }
 },
 "nbformat": 4,
 "nbformat_minor": 2
}
