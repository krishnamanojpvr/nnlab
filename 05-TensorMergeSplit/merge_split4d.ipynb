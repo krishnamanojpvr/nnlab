{
 "cells": [
  {
   "cell_type": "markdown",
   "metadata": {},
   "source": [
    "## Krishna Manoj PVR\n",
    "## 22BD1A051F\n",
    "## Merge and Split 4D Tensor\n",
    "\n",
    "Consider a 4D tensor \n",
    "T\n",
    " of shape \n",
    "(\n",
    "4\n",
    ",\n",
    "6\n",
    ",\n",
    "3\n",
    ",\n",
    "5\n",
    ")\n",
    "(4,6,3,5) generated with random integer values. Perform the following operations:\n",
    "\n",
    "Merge Operations:\n",
    "\n",
    "Reshape \n",
    "T\n",
    " into a 3D tensor by merging the first two dimensions. Store it as \n",
    "T\n",
    "1\n",
    "​.\n",
    "Reshape \n",
    "T\n",
    " into a 3D tensor by merging the last two dimensions. Store it as \n",
    "T\n",
    "2\n",
    "​.\n",
    "Concatenate \n",
    "T\n",
    "T with itself along axis 1 to form a new tensor \n",
    "T\n",
    "3\n",
    "​ and print its shape.\n",
    "Split Operations:\n",
    "\n",
    "Split \n",
    "T\n",
    "1\n",
    "​ back into its original 4D shape along the first dimension and verify the recovery.\n",
    "Split \n",
    "T\n",
    "3\n",
    "​ into two equal parts along axis 1 and verify the shapes of the resulting tensors.\n",
    "Perform a non-uniform split of \n",
    "T\n",
    "2\n",
    " along the last dimension into parts of sizes 4 and 11.\n"
   ]
  },
  {
   "cell_type": "code",
   "execution_count": 28,
   "metadata": {},
   "outputs": [],
   "source": [
    "import tensorflow as tf"
   ]
  },
  {
   "cell_type": "code",
   "execution_count": 29,
   "metadata": {},
   "outputs": [
    {
     "data": {
      "text/plain": [
       "TensorShape([4, 6, 3, 5])"
      ]
     },
     "execution_count": 29,
     "metadata": {},
     "output_type": "execute_result"
    }
   ],
   "source": [
    "T = tf.random.uniform(shape=(4, 6, 3, 5))\n",
    "T.shape"
   ]
  },
  {
   "cell_type": "code",
   "execution_count": 30,
   "metadata": {},
   "outputs": [
    {
     "data": {
      "text/plain": [
       "TensorShape([24, 3, 5])"
      ]
     },
     "execution_count": 30,
     "metadata": {},
     "output_type": "execute_result"
    }
   ],
   "source": [
    "T1 = tf.reshape(T,(4*6,3,5))\n",
    "T1.shape"
   ]
  },
  {
   "cell_type": "code",
   "execution_count": 31,
   "metadata": {},
   "outputs": [
    {
     "data": {
      "text/plain": [
       "TensorShape([4, 6, 15])"
      ]
     },
     "execution_count": 31,
     "metadata": {},
     "output_type": "execute_result"
    }
   ],
   "source": [
    "T2 = tf.reshape(T,(4,6,3*5))\n",
    "T2.shape"
   ]
  },
  {
   "cell_type": "code",
   "execution_count": 32,
   "metadata": {},
   "outputs": [
    {
     "data": {
      "text/plain": [
       "TensorShape([4, 12, 3, 5])"
      ]
     },
     "execution_count": 32,
     "metadata": {},
     "output_type": "execute_result"
    }
   ],
   "source": [
    "T3 = tf.concat([T,T],axis=1)\n",
    "T3.shape"
   ]
  },
  {
   "cell_type": "code",
   "execution_count": 33,
   "metadata": {},
   "outputs": [
    {
     "data": {
      "text/plain": [
       "TensorShape([4, 6, 3, 5])"
      ]
     },
     "execution_count": 33,
     "metadata": {},
     "output_type": "execute_result"
    }
   ],
   "source": [
    "T1_back = tf.reshape(T1,(4,6,3,5))\n",
    "T1_back.shape"
   ]
  },
  {
   "cell_type": "code",
   "execution_count": 34,
   "metadata": {},
   "outputs": [
    {
     "data": {
      "text/plain": [
       "(TensorShape([4, 6, 3, 5]), TensorShape([4, 6, 3, 5]))"
      ]
     },
     "execution_count": 34,
     "metadata": {},
     "output_type": "execute_result"
    }
   ],
   "source": [
    "T3_a, T3_b = tf.split(T3,2,axis=1)\n",
    "T3_a.shape,T3_b.shape"
   ]
  },
  {
   "cell_type": "code",
   "execution_count": 35,
   "metadata": {},
   "outputs": [
    {
     "data": {
      "text/plain": [
       "(TensorShape([4, 6, 4]), TensorShape([4, 6, 11]))"
      ]
     },
     "execution_count": 35,
     "metadata": {},
     "output_type": "execute_result"
    }
   ],
   "source": [
    "T2_a,T2_b = tf.split(T2,[4,11],axis=2)\n",
    "T2_a.shape,T2_b.shape"
   ]
  }
 ],
 "metadata": {
  "kernelspec": {
   "display_name": "Python 3",
   "language": "python",
   "name": "python3"
  },
  "language_info": {
   "codemirror_mode": {
    "name": "ipython",
    "version": 3
   },
   "file_extension": ".py",
   "mimetype": "text/x-python",
   "name": "python",
   "nbconvert_exporter": "python",
   "pygments_lexer": "ipython3",
   "version": "3.12.6"
  }
 },
 "nbformat": 4,
 "nbformat_minor": 2
}
