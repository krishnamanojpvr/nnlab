{
 "cells": [
  {
   "cell_type": "code",
   "execution_count": 77,
   "metadata": {},
   "outputs": [],
   "source": [
    "import tensorflow as tf\n",
    "from tensorflow import keras\n",
    "from tensorflow.keras import layers, optimizers, datasets"
   ]
  },
  {
   "cell_type": "code",
   "execution_count": 78,
   "metadata": {},
   "outputs": [
    {
     "data": {
      "text/plain": [
       "<tf.Tensor: shape=(60000, 10), dtype=float32, numpy=\n",
       "array([[0., 0., 0., ..., 0., 0., 0.],\n",
       "       [1., 0., 0., ..., 0., 0., 0.],\n",
       "       [0., 0., 0., ..., 0., 0., 0.],\n",
       "       ...,\n",
       "       [0., 0., 0., ..., 0., 0., 0.],\n",
       "       [0., 0., 0., ..., 0., 0., 0.],\n",
       "       [0., 0., 0., ..., 0., 1., 0.]], dtype=float32)>"
      ]
     },
     "execution_count": 78,
     "metadata": {},
     "output_type": "execute_result"
    }
   ],
   "source": [
    "# Load dataset\n",
    "(x, y), (x_val, y_val) = datasets.mnist.load_data()\n",
    "x = 2 * tf.convert_to_tensor(x, dtype=tf.float32) / 255.0 - 1  # Normalize to [-1,1]\n",
    "y = tf.convert_to_tensor(y, dtype=tf.int32)\n",
    "y = tf.one_hot(y, depth=10)  # One-hot encode labels\n",
    "y"
   ]
  },
  {
   "cell_type": "code",
   "execution_count": 79,
   "metadata": {},
   "outputs": [
    {
     "data": {
      "text/plain": [
       "<Sequential name=sequential_11, built=False>"
      ]
     },
     "execution_count": 79,
     "metadata": {},
     "output_type": "execute_result"
    }
   ],
   "source": [
    "# Define model\n",
    "model = keras.Sequential([\n",
    "    layers.Dense(256, activation='relu'),\n",
    "    layers.Dense(128, activation='relu'),\n",
    "    layers.Dense(10)\n",
    "])\n",
    "model\n"
   ]
  },
  {
   "cell_type": "code",
   "execution_count": 80,
   "metadata": {},
   "outputs": [
    {
     "data": {
      "text/plain": [
       "<keras.src.optimizers.sgd.SGD at 0x1745568c3b0>"
      ]
     },
     "execution_count": 80,
     "metadata": {},
     "output_type": "execute_result"
    }
   ],
   "source": [
    "# Define optimizer\n",
    "optimizer = optimizers.SGD(learning_rate=0.1)\n",
    "optimizer"
   ]
  },
  {
   "cell_type": "code",
   "execution_count": 81,
   "metadata": {},
   "outputs": [
    {
     "name": "stdout",
     "output_type": "stream",
     "text": [
      "Epoch 1/50, Loss: 1.612274169921875\n",
      "Epoch 2/50, Loss: 5.153747081756592\n",
      "Epoch 3/50, Loss: 2.1305341720581055\n",
      "Epoch 4/50, Loss: 0.7297989726066589\n",
      "Epoch 5/50, Loss: 0.8422374129295349\n",
      "Epoch 6/50, Loss: 0.1513662040233612\n",
      "Epoch 7/50, Loss: 0.10211998969316483\n",
      "Epoch 8/50, Loss: 0.09758949279785156\n",
      "Epoch 9/50, Loss: 0.09604181349277496\n",
      "Epoch 10/50, Loss: 0.0948856920003891\n",
      "Epoch 11/50, Loss: 0.09391151368618011\n",
      "Epoch 12/50, Loss: 0.09305056184530258\n",
      "Epoch 13/50, Loss: 0.09226851165294647\n",
      "Epoch 14/50, Loss: 0.09154453128576279\n",
      "Epoch 15/50, Loss: 0.09086307138204575\n",
      "Epoch 16/50, Loss: 0.09021366387605667\n",
      "Epoch 17/50, Loss: 0.08958932757377625\n",
      "Epoch 18/50, Loss: 0.08898507058620453\n",
      "Epoch 19/50, Loss: 0.08839859068393707\n",
      "Epoch 20/50, Loss: 0.08782970160245895\n",
      "Epoch 21/50, Loss: 0.08727988600730896\n",
      "Epoch 22/50, Loss: 0.08674794435501099\n",
      "Epoch 23/50, Loss: 0.08623573184013367\n",
      "Epoch 24/50, Loss: 0.08573973923921585\n",
      "Epoch 25/50, Loss: 0.08526040613651276\n",
      "Epoch 26/50, Loss: 0.08479656279087067\n",
      "Epoch 27/50, Loss: 0.08434675633907318\n",
      "Epoch 28/50, Loss: 0.08390773087739944\n",
      "Epoch 29/50, Loss: 0.08347925543785095\n",
      "Epoch 30/50, Loss: 0.08306033909320831\n",
      "Epoch 31/50, Loss: 0.0826483815908432\n",
      "Epoch 32/50, Loss: 0.08224267512559891\n",
      "Epoch 33/50, Loss: 0.08184316754341125\n",
      "Epoch 34/50, Loss: 0.08145041763782501\n",
      "Epoch 35/50, Loss: 0.08106400072574615\n",
      "Epoch 36/50, Loss: 0.08068368583917618\n",
      "Epoch 37/50, Loss: 0.08030958473682404\n",
      "Epoch 38/50, Loss: 0.07994063943624496\n",
      "Epoch 39/50, Loss: 0.07957574725151062\n",
      "Epoch 40/50, Loss: 0.07921487838029861\n",
      "Epoch 41/50, Loss: 0.07885876297950745\n",
      "Epoch 42/50, Loss: 0.07850707322359085\n",
      "Epoch 43/50, Loss: 0.07815857231616974\n",
      "Epoch 44/50, Loss: 0.07781270891427994\n",
      "Epoch 45/50, Loss: 0.07746881991624832\n",
      "Epoch 46/50, Loss: 0.07712766528129578\n",
      "Epoch 47/50, Loss: 0.07678893208503723\n",
      "Epoch 48/50, Loss: 0.07645278424024582\n",
      "Epoch 49/50, Loss: 0.0761193335056305\n",
      "Epoch 50/50, Loss: 0.07578778266906738\n"
     ]
    }
   ],
   "source": [
    "# Training loop (without batches)\n",
    "epochs = 50  # Number of epochs\n",
    "\n",
    "for epoch in range(epochs):\n",
    "    with tf.GradientTape() as tape:\n",
    "        x_train_flat = tf.reshape(x, (-1, 28 * 28))  # Flatten input\n",
    "        out = model(x_train_flat)  # Forward pass\n",
    "        loss = tf.reduce_mean(tf.square(out - y))  # Compute MSE loss\n",
    "\n",
    "    # Compute gradients\n",
    "    grads = tape.gradient(loss, model.trainable_variables)\n",
    "\n",
    "    # Update parameters\n",
    "    optimizer.apply_gradients(zip(grads, model.trainable_variables))\n",
    "\n",
    "    print(f\"Epoch {epoch+1}/{epochs}, Loss: {loss.numpy()}\")\n"
   ]
  },
  {
   "cell_type": "code",
   "execution_count": 82,
   "metadata": {},
   "outputs": [
    {
     "name": "stdout",
     "output_type": "stream",
     "text": [
      "Test Accuracy: 47.93%\n"
     ]
    }
   ],
   "source": [
    "#testing the model\n",
    "x_val = 2 * tf.convert_to_tensor(x_val, dtype=tf.float32) / 255.0 - 1\n",
    "y_val = tf.convert_to_tensor(y_val, dtype=tf.int32)\n",
    "y_val = tf.one_hot(y_val, depth=10)\n",
    "\n",
    "x_val_flat = tf.reshape(x_val,(-1,28*28))\n",
    "out = model(x_val_flat)\n",
    "y_pred_labels = tf.argmax(out, axis=1)\n",
    "y_test_labels = tf.argmax(y_val, axis=1)\n",
    "\n",
    "acc = tf.reduce_mean(tf.cast(tf.equal(y_pred_labels, y_test_labels), tf.float32))\n",
    "print(f\"Test Accuracy: {acc.numpy() * 100:.2f}%\")"
   ]
  },
  {
   "cell_type": "code",
   "execution_count": null,
   "metadata": {},
   "outputs": [],
   "source": []
  }
 ],
 "metadata": {
  "kernelspec": {
   "display_name": "Python 3",
   "language": "python",
   "name": "python3"
  },
  "language_info": {
   "codemirror_mode": {
    "name": "ipython",
    "version": 3
   },
   "file_extension": ".py",
   "mimetype": "text/x-python",
   "name": "python",
   "nbconvert_exporter": "python",
   "pygments_lexer": "ipython3",
   "version": "3.12.6"
  }
 },
 "nbformat": 4,
 "nbformat_minor": 2
}
