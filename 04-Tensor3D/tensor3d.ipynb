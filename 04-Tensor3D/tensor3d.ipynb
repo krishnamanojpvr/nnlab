{
 "cells": [
  {
   "cell_type": "markdown",
   "metadata": {},
   "source": [
    "## Krishna Manoj PVR\n",
    "\n",
    "## 22BD1A051F"
   ]
  },
  {
   "cell_type": "code",
   "execution_count": 38,
   "metadata": {},
   "outputs": [],
   "source": [
    "import tensorflow as tf"
   ]
  },
  {
   "cell_type": "code",
   "execution_count": 39,
   "metadata": {},
   "outputs": [],
   "source": [
    "arr1 = tf.constant([[[1, 2, 3],[4, 5, 6]],\n",
    "                    [[6, 7, 8], [9, 10, 11]]])\n",
    "\n",
    "arr2 = tf.constant([[[1, 2, 5],[8, 9, 10]],\n",
    "                    [[10, 8, 7], [9, 10, 11]]])"
   ]
  },
  {
   "cell_type": "code",
   "execution_count": 40,
   "metadata": {},
   "outputs": [
    {
     "name": "stdout",
     "output_type": "stream",
     "text": [
      "Addition of two tensors:\n",
      "[[[2 4 8]\n",
      "  [12 14 16]]\n",
      "\n",
      " [[16 15 15]\n",
      "  [18 20 22]]]\n",
      "Subtraction of two tensors:\n",
      "[[[0 0 -2]\n",
      "  [-4 -4 -4]]\n",
      "\n",
      " [[-4 -1 1]\n",
      "  [0 0 0]]]\n"
     ]
    }
   ],
   "source": [
    "# Perform element-wise addition, subtraction, multiplication, division, and power operations\n",
    "print(\"Addition of two tensors:\")\n",
    "tf.print(tf.add(arr1, arr2))\n",
    "\n",
    "print(\"Subtraction of two tensors:\")\n",
    "tf.print(tf.subtract(arr1, arr2))"
   ]
  },
  {
   "cell_type": "code",
   "execution_count": 41,
   "metadata": {},
   "outputs": [
    {
     "name": "stdout",
     "output_type": "stream",
     "text": [
      "Multiplication of two tensors:\n",
      "[[[1 4 15]\n",
      "  [32 45 60]]\n",
      "\n",
      " [[60 56 56]\n",
      "  [81 100 121]]]\n",
      "Division of two tensors:\n",
      "[[[1 1 0.6]\n",
      "  [0.5 0.55555555555555558 0.6]]\n",
      "\n",
      " [[0.6 0.875 1.1428571428571428]\n",
      "  [1 1 1]]]\n"
     ]
    }
   ],
   "source": [
    "print(\"Multiplication of two tensors:\")\n",
    "tf.print(tf.multiply(arr1, arr2))\n",
    "\n",
    "print(\"Division of two tensors:\")\n",
    "tf.print(tf.divide(arr1, arr2))"
   ]
  },
  {
   "cell_type": "code",
   "execution_count": 42,
   "metadata": {},
   "outputs": [
    {
     "name": "stdout",
     "output_type": "stream",
     "text": [
      "Exponential of arr1:\n",
      "[[[2.71828175 7.38905621 20.085537]\n",
      "  [54.5981483 148.413162 403.428772]]\n",
      "\n",
      " [[403.428772 1096.63318 2980.95801]\n",
      "  [8103.08398 22026.4648 59874.1406]]]\n",
      "Logarithm of arr1:\n",
      "[[[0 0.693147182 1.09861231]\n",
      "  [1.38629436 1.60943794 1.79175949]]\n",
      "\n",
      " [[1.79175949 1.94591022 2.07944155]\n",
      "  [2.19722462 2.30258512 2.39789534]]]\n"
     ]
    }
   ],
   "source": [
    "print(\"Exponential of arr1:\")\n",
    "tf.print(tf.exp(tf.cast((arr1), dtype=tf.float32)))\n",
    "\n",
    "print(\"Logarithm of arr1:\")\n",
    "tf.print(tf.math.log(tf.cast((arr1), dtype=tf.float32)))\n"
   ]
  }
 ],
 "metadata": {
  "kernelspec": {
   "display_name": "Python 3",
   "language": "python",
   "name": "python3"
  },
  "language_info": {
   "codemirror_mode": {
    "name": "ipython",
    "version": 3
   },
   "file_extension": ".py",
   "mimetype": "text/x-python",
   "name": "python",
   "nbconvert_exporter": "python",
   "pygments_lexer": "ipython3",
   "version": "3.12.6"
  }
 },
 "nbformat": 4,
 "nbformat_minor": 2
}
